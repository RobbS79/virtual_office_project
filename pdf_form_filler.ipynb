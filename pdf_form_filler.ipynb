import pandas as pd
from PyPDF2 import PdfReader, PdfWriter
import pandas.io.sql as psql
import psycopg2

conn = psycopg2.connect("credentials")


emp_database_df = psql.read_sql('SELECT * FROM employees', conn)
df = emp_database_df

company_data = pd.read_excel("path to company data in excel file","Sheet2",header=0)


writer = PdfWriter()
reader2 = PdfReader("path to .pdf form")
fields2 = reader2.get_fields()


count = 0
for j in range(len(reader2.pages)):
    page = reader2.pages[j]
    fields2 = reader2.get_fields()
    

    writer.add_page(page)


    for i in fields2.keys():
        

        v = fields2[str(i)]["/T"]

        if "Text" in v and count in range(8):
            writer.update_page_form_field_values(
                writer.pages[j], {v:f"{company_data.iloc[count][1]}"}
            )
    
        count += 1


with open("output .pdf file", "wb") as output_stream:
    writer.write(output_stream)

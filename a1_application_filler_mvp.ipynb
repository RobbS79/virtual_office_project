import pandas as pd
from PyPDF2 import PdfReader, PdfWriter
import pandas.io.sql as psql

###Seventh working attempt - for all pages filling text fields from Text8[0] to Text22[0] with values from employees database
###Seventh working attempt - for all pages filling text fields from Text8[0] to Text22[0] with values from employees database
###Seventh working attempt - for all pages filling text fields from Text8[0] to Text22[0] with values from employees database
###Seventh working attempt - for all pages filling text fields from Text8[0] to Text22[0] with values from employees database
###Seventh working attempt - for all pages filling text fields from Text8[0] to Text22[0] with values from employees database

###         MMMMMMM     MMMMMMM        VVVV      VVVV       PPPPPPPPPPPP
###         MMMMMMMM   MMMMMMMM         VVVV    VVVV        PPPP    PPPPP
###         MMMM MMMMMMMMM MMMM          VVVV  VVVV         PPPP    PPPPP
###         MMMM  MMMMMM   MMMM           VVV  VVV          PPPPPPPPPPPPP
###         MMMM   MMMM    MMMM            VVVVVV           PPPP
###         MMMM           MMMM             VVVV            PPPP
###         MMMM           MMMM              VV             PPPP



writer = PdfWriter()
reader2 = PdfReader("/Users/rob/Desktop/virtual_office/HR/forms/ziadost_a1-1 (1).pdf")
fields2 = reader2.get_fields()
#x2 = fields2.items()

count = 0
for j in range(len(reader2.pages)):
    page = reader2.pages[j]
    fields2 = reader2.get_fields()
    #print(fields2)
    
    writer.add_page(page)

    
    for i in fields2.keys():
        #print(i)
        
        v = fields2[str(i)]["/T"]

        if "Text" in v and count in range(8):
            writer.update_page_form_field_values(
                writer.pages[j], {v:f"{company_data.iloc[count][1]}"}
            )
            #print(f"{company_data.iloc[count][1]}")
    
    #print(count)
        elif "Text" in v and count in range(8,23):
            writer.update_page_form_field_values(
            writer.pages[j], {v: f"{df.iloc[5][count-9]}"}
            )        

        elif "Text" in i and count in range(23,27):
            if df.iloc[5][6] == "Slovenská":
                writer.update_page_form_field_values(
                writer.pages[j], {i: f"-"}
                )
            else:
                writer.update_page_form_field_values(
                writer.pages[j], {i: f"zadaj manuálne"}
                )
        #print("Third condition met")
                            
        else:
            writer.update_page_form_field_values(
            writer.pages[j], {i: f"test {i} "}
            )
        count += 1

        

# write "output" to PyPDF2-output.pdf
with open("filled-out3.pdf", "wb") as output_stream:
    writer.write(output_stream)
